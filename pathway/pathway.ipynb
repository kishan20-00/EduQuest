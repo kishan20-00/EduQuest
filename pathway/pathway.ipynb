{
 "cells": [
  {
   "cell_type": "code",
   "execution_count": 1,
   "metadata": {},
   "outputs": [],
   "source": [
    "import pandas as pd\n",
    "from sklearn.model_selection import train_test_split\n",
    "from sklearn.preprocessing import LabelEncoder, StandardScaler\n",
    "from sklearn.ensemble import RandomForestClassifier\n",
    "from sklearn.metrics import accuracy_score, classification_report\n",
    "import joblib"
   ]
  },
  {
   "cell_type": "code",
   "execution_count": 2,
   "metadata": {},
   "outputs": [],
   "source": [
    "# Load your dataset\n",
    "# Replace this with your actual dataset loading method\n",
    "df = pd.read_csv('Path_updated.csv')"
   ]
  },
  {
   "cell_type": "code",
   "execution_count": 3,
   "metadata": {},
   "outputs": [],
   "source": [
    "# Separate the features and the target variables\n",
    "X = df.drop(columns=['Complexity', 'Learning Content'])\n",
    "y_complexity = df['Complexity']\n",
    "y_learning_content = df['Learning Content']"
   ]
  },
  {
   "cell_type": "code",
   "execution_count": 4,
   "metadata": {},
   "outputs": [],
   "source": [
    "# Encode categorical features\n",
    "label_encoders = {}\n",
    "categorical_cols = X.select_dtypes(include=['object']).columns\n",
    "\n",
    "for col in categorical_cols:\n",
    "    le = LabelEncoder()\n",
    "    X[col] = le.fit_transform(X[col])\n",
    "    label_encoders[col] = le\n",
    "\n",
    "# Standardize numerical features\n",
    "scaler = StandardScaler()\n",
    "numerical_cols = X.select_dtypes(include=['int64', 'float64']).columns\n",
    "X[numerical_cols] = scaler.fit_transform(X[numerical_cols])\n",
    "\n",
    "# Split the dataset for both targets\n",
    "X_train_complexity, X_test_complexity, y_train_complexity, y_test_complexity = train_test_split(\n",
    "    X, y_complexity, test_size=0.3, random_state=42\n",
    ")\n",
    "X_train_content, X_test_content, y_train_content, y_test_content = train_test_split(\n",
    "    X, y_learning_content, test_size=0.3, random_state=42\n",
    ")"
   ]
  },
  {
   "cell_type": "code",
   "execution_count": 5,
   "metadata": {},
   "outputs": [
    {
     "name": "stdout",
     "output_type": "stream",
     "text": [
      "Accuracy for 'Complexity': 0.9994110718492344\n",
      "Classification Report for 'Complexity':\n",
      "               precision    recall  f1-score   support\n",
      "\n",
      "    advanced       1.00      1.00      1.00       253\n",
      "    beginner       1.00      1.00      1.00      1064\n",
      "intermediate       1.00      1.00      1.00       381\n",
      "\n",
      "    accuracy                           1.00      1698\n",
      "   macro avg       1.00      1.00      1.00      1698\n",
      "weighted avg       1.00      1.00      1.00      1698\n",
      "\n"
     ]
    },
    {
     "data": {
      "text/plain": [
       "['scaler.pkl']"
      ]
     },
     "execution_count": 5,
     "metadata": {},
     "output_type": "execute_result"
    }
   ],
   "source": [
    "# Train the model for predicting Complexity\n",
    "model_complexity = RandomForestClassifier(random_state=42)\n",
    "model_complexity.fit(X_train_complexity, y_train_complexity)\n",
    "\n",
    "# Make predictions and evaluate the model\n",
    "y_pred_complexity = model_complexity.predict(X_test_complexity)\n",
    "print(\"Accuracy for 'Complexity':\", accuracy_score(y_test_complexity, y_pred_complexity))\n",
    "print(\"Classification Report for 'Complexity':\\n\", classification_report(y_test_complexity, y_pred_complexity))\n",
    "\n",
    "# Save the model and label encoders\n",
    "joblib.dump(model_complexity, 'model_complexity.pkl')\n",
    "joblib.dump(label_encoders, 'label_encoders.pkl')\n",
    "joblib.dump(scaler, 'scaler.pkl')\n"
   ]
  },
  {
   "cell_type": "code",
   "execution_count": 6,
   "metadata": {},
   "outputs": [
    {
     "name": "stdout",
     "output_type": "stream",
     "text": [
      "Accuracy for 'Learning Content': 0.8975265017667845\n",
      "Classification Report for 'Learning Content':\n",
      "               precision    recall  f1-score   support\n",
      "\n",
      "  assignment       0.92      0.97      0.94       383\n",
      "       audio       0.37      0.14      0.20        51\n",
      "         pdf       0.30      0.23      0.26        44\n",
      "        quiz       0.95      0.96      0.95       609\n",
      "        text       0.19      0.09      0.12        45\n",
      "       video       0.91      0.96      0.94       566\n",
      "\n",
      "    accuracy                           0.90      1698\n",
      "   macro avg       0.61      0.56      0.57      1698\n",
      "weighted avg       0.87      0.90      0.88      1698\n",
      "\n"
     ]
    },
    {
     "data": {
      "text/plain": [
       "['model_content.pkl']"
      ]
     },
     "execution_count": 6,
     "metadata": {},
     "output_type": "execute_result"
    }
   ],
   "source": [
    "# Train the model for predicting Learning Content\n",
    "model_content = RandomForestClassifier(random_state=42)\n",
    "model_content.fit(X_train_content, y_train_content)\n",
    "\n",
    "# Make predictions and evaluate the model\n",
    "y_pred_content = model_content.predict(X_test_content)\n",
    "print(\"Accuracy for 'Learning Content':\", accuracy_score(y_test_content, y_pred_content))\n",
    "print(\"Classification Report for 'Learning Content':\\n\", classification_report(y_test_content, y_pred_content))\n",
    "\n",
    "# Save the model\n",
    "joblib.dump(model_content, 'model_content.pkl')\n"
   ]
  },
  {
   "cell_type": "code",
   "execution_count": 8,
   "metadata": {},
   "outputs": [
    {
     "name": "stdout",
     "output_type": "stream",
     "text": [
      "Predicted Complexity: advanced\n",
      "Predicted Learning Content: assignment\n"
     ]
    }
   ],
   "source": [
    "# Load models and encoders\n",
    "model_complexity = joblib.load('model_complexity.pkl')\n",
    "model_content = joblib.load('model_content.pkl')\n",
    "label_encoders = joblib.load('label_encoders.pkl')\n",
    "scaler = joblib.load('scaler.pkl')\n",
    "\n",
    "# Example of new data (replace with actual new data)\n",
    "new_data = pd.DataFrame({\n",
    "    'Subject': ['Artificial Intelligence and Machine Learning'],\n",
    "    'Course Score': [85],\n",
    "    'Learning Score': [78],\n",
    "    'quiz Score': [90]\n",
    "})\n",
    "\n",
    "# Encode categorical variables\n",
    "for col in categorical_cols:\n",
    "    new_data[col] = label_encoders[col].transform(new_data[col])\n",
    "\n",
    "# Standardize numerical features\n",
    "new_data[numerical_cols] = scaler.transform(new_data[numerical_cols])\n",
    "\n",
    "# Predict using the models\n",
    "complexity_prediction = model_complexity.predict(new_data)\n",
    "content_prediction = model_content.predict(new_data)\n",
    "\n",
    "# Decode predictions if needed\n",
    "print(\"Predicted Complexity:\", complexity_prediction[0])\n",
    "print(\"Predicted Learning Content:\", content_prediction[0])\n"
   ]
  }
 ],
 "metadata": {
  "kernelspec": {
   "display_name": "eye_track",
   "language": "python",
   "name": "python3"
  },
  "language_info": {
   "codemirror_mode": {
    "name": "ipython",
    "version": 3
   },
   "file_extension": ".py",
   "mimetype": "text/x-python",
   "name": "python",
   "nbconvert_exporter": "python",
   "pygments_lexer": "ipython3",
   "version": "3.11.4"
  }
 },
 "nbformat": 4,
 "nbformat_minor": 2
}
